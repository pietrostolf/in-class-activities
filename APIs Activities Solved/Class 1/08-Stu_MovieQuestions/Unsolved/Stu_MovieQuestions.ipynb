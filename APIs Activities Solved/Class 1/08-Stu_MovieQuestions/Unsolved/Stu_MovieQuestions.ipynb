{
 "cells": [
  {
   "cell_type": "code",
   "execution_count": 12,
   "metadata": {},
   "outputs": [],
   "source": [
    "# Dependencies\n",
    "import requests\n",
    "from config import api_key\n",
    "from pprint import pprint \n",
    "\n",
    "base_url = f\"http://www.omdbapi.com/?i=tt3896198&apikey=bd6c903a&t=\""
   ]
  },
  {
   "cell_type": "code",
   "execution_count": 13,
   "metadata": {},
   "outputs": [
    {
     "name": "stdout",
     "output_type": "stream",
     "text": [
      "http://www.omdbapi.com/?i=tt3896198&apikey=bd6c903a&t=aliens\n"
     ]
    }
   ],
   "source": [
    "# Who was the director of the movie Aliens?\n",
    "movie = \"aliens\"\n",
    "url = base_url + movie\n",
    "response = requests.get(url)\n",
    "print(response.url)\n"
   ]
  },
  {
   "cell_type": "code",
   "execution_count": 14,
   "metadata": {},
   "outputs": [
    {
     "name": "stdout",
     "output_type": "stream",
     "text": [
      "{'Actors': 'Sigourney Weaver, Michael Biehn, Carrie Henn',\n",
      " 'Awards': 'Won 2 Oscars. 20 wins & 23 nominations total',\n",
      " 'BoxOffice': '$85,160,248',\n",
      " 'Country': 'United Kingdom, United States',\n",
      " 'DVD': '01 Jun 1999',\n",
      " 'Director': 'James Cameron',\n",
      " 'Genre': 'Action, Adventure, Sci-Fi',\n",
      " 'Language': 'English, Spanish',\n",
      " 'Metascore': '84',\n",
      " 'Plot': 'Decades after surviving the Nostromo incident, Ellen Ripley is sent '\n",
      "         'out to re-establish contact with a terraforming colony, but finds '\n",
      "         'herself battling the Alien Queen and her offspring.',\n",
      " 'Poster': 'https://m.media-amazon.com/images/M/MV5BZTM1Nzk5ZTItN2ZkNi00MDRjLWIwYWUtOWY4ZjZmZjkyM2I0XkEyXkFqcGdeQXVyNTU1NTcwOTk@._V1_SX300.jpg',\n",
      " 'Production': 'N/A',\n",
      " 'Rated': 'R',\n",
      " 'Ratings': [{'Source': 'Internet Movie Database', 'Value': '8.4/10'},\n",
      "             {'Source': 'Rotten Tomatoes', 'Value': '98%'},\n",
      "             {'Source': 'Metacritic', 'Value': '84/100'}],\n",
      " 'Released': '18 Jul 1986',\n",
      " 'Response': 'True',\n",
      " 'Runtime': '137 min',\n",
      " 'Title': 'Aliens',\n",
      " 'Type': 'movie',\n",
      " 'Website': 'N/A',\n",
      " 'Writer': 'James Cameron, David Giler, Walter Hill',\n",
      " 'Year': '1986',\n",
      " 'imdbID': 'tt0090605',\n",
      " 'imdbRating': '8.4',\n",
      " 'imdbVotes': '725,065'}\n"
     ]
    }
   ],
   "source": [
    "body = response.json()\n",
    "pprint(body)"
   ]
  },
  {
   "cell_type": "code",
   "execution_count": 15,
   "metadata": {},
   "outputs": [
    {
     "name": "stdout",
     "output_type": "stream",
     "text": [
      "James Cameron\n"
     ]
    }
   ],
   "source": [
    "print(body[\"Director\"])"
   ]
  },
  {
   "cell_type": "code",
   "execution_count": 16,
   "metadata": {
    "scrolled": true
   },
   "outputs": [
    {
     "name": "stdout",
     "output_type": "stream",
     "text": [
      "http://www.omdbapi.com/?i=tt3896198&apikey=bd6c903a&t=Gladiator\n"
     ]
    }
   ],
   "source": [
    "# What was the movie Gladiator rated?\n",
    "movie = \"Gladiator\"\n",
    "url = base_url + movie\n",
    "response = requests.get(url)\n",
    "print(response.url)\n"
   ]
  },
  {
   "cell_type": "code",
   "execution_count": 17,
   "metadata": {},
   "outputs": [
    {
     "name": "stdout",
     "output_type": "stream",
     "text": [
      "{'Actors': 'Russell Crowe, Joaquin Phoenix, Connie Nielsen',\n",
      " 'Awards': 'Won 5 Oscars. 60 wins & 106 nominations total',\n",
      " 'BoxOffice': '$187,705,427',\n",
      " 'Country': 'United States, United Kingdom, Malta, Morocco',\n",
      " 'DVD': '26 Sep 2000',\n",
      " 'Director': 'Ridley Scott',\n",
      " 'Genre': 'Action, Adventure, Drama',\n",
      " 'Language': 'English',\n",
      " 'Metascore': '67',\n",
      " 'Plot': 'A former Roman General sets out to exact vengeance against the '\n",
      "         'corrupt emperor who murdered his family and sent him into slavery.',\n",
      " 'Poster': 'https://m.media-amazon.com/images/M/MV5BMDliMmNhNDEtODUyOS00MjNlLTgxODEtN2U3NzIxMGVkZTA1L2ltYWdlXkEyXkFqcGdeQXVyNjU0OTQ0OTY@._V1_SX300.jpg',\n",
      " 'Production': 'N/A',\n",
      " 'Rated': 'R',\n",
      " 'Ratings': [{'Source': 'Internet Movie Database', 'Value': '8.5/10'},\n",
      "             {'Source': 'Rotten Tomatoes', 'Value': '79%'},\n",
      "             {'Source': 'Metacritic', 'Value': '67/100'}],\n",
      " 'Released': '05 May 2000',\n",
      " 'Response': 'True',\n",
      " 'Runtime': '155 min',\n",
      " 'Title': 'Gladiator',\n",
      " 'Type': 'movie',\n",
      " 'Website': 'N/A',\n",
      " 'Writer': 'David Franzoni, John Logan, William Nicholson',\n",
      " 'Year': '2000',\n",
      " 'imdbID': 'tt0172495',\n",
      " 'imdbRating': '8.5',\n",
      " 'imdbVotes': '1,515,969'}\n"
     ]
    }
   ],
   "source": [
    "body = response.json()\n",
    "pprint(body)"
   ]
  },
  {
   "cell_type": "code",
   "execution_count": 18,
   "metadata": {},
   "outputs": [
    {
     "name": "stdout",
     "output_type": "stream",
     "text": [
      "R\n"
     ]
    }
   ],
   "source": [
    "print(body[\"Rated\"])"
   ]
  },
  {
   "cell_type": "code",
   "execution_count": 19,
   "metadata": {},
   "outputs": [
    {
     "name": "stdout",
     "output_type": "stream",
     "text": [
      "http://www.omdbapi.com/?i=tt3896198&apikey=bd6c903a&t=50%20First%20Dates\n"
     ]
    }
   ],
   "source": [
    "# What year was 50 First Dates released?\n",
    "movie = \"50 First Dates\"\n",
    "url = base_url + movie\n",
    "response = requests.get(url)\n",
    "print(response.url)\n"
   ]
  },
  {
   "cell_type": "code",
   "execution_count": 20,
   "metadata": {},
   "outputs": [
    {
     "name": "stdout",
     "output_type": "stream",
     "text": [
      "{'Actors': 'Adam Sandler, Drew Barrymore, Rob Schneider',\n",
      " 'Awards': '6 wins & 10 nominations',\n",
      " 'BoxOffice': '$120,908,074',\n",
      " 'Country': 'United States',\n",
      " 'DVD': '15 Jun 2004',\n",
      " 'Director': 'Peter Segal',\n",
      " 'Genre': 'Comedy, Drama, Romance',\n",
      " 'Language': 'English, Hawaiian, Mandarin',\n",
      " 'Metascore': '48',\n",
      " 'Plot': 'Henry Roth is a man afraid of commitment until he meets the '\n",
      "         \"beautiful Lucy. They hit it off and Henry think he's finally found \"\n",
      "         'the girl of his dreams until discovering she has short-term memory '\n",
      "         'loss and forgets him the next day.',\n",
      " 'Poster': 'https://m.media-amazon.com/images/M/MV5BMjAwMzc4MDgxNF5BMl5BanBnXkFtZTYwNjUwMzE3._V1_SX300.jpg',\n",
      " 'Production': 'N/A',\n",
      " 'Rated': 'PG-13',\n",
      " 'Ratings': [{'Source': 'Internet Movie Database', 'Value': '6.8/10'},\n",
      "             {'Source': 'Rotten Tomatoes', 'Value': '45%'},\n",
      "             {'Source': 'Metacritic', 'Value': '48/100'}],\n",
      " 'Released': '13 Feb 2004',\n",
      " 'Response': 'True',\n",
      " 'Runtime': '99 min',\n",
      " 'Title': '50 First Dates',\n",
      " 'Type': 'movie',\n",
      " 'Website': 'N/A',\n",
      " 'Writer': 'George Wing',\n",
      " 'Year': '2004',\n",
      " 'imdbID': 'tt0343660',\n",
      " 'imdbRating': '6.8',\n",
      " 'imdbVotes': '362,206'}\n"
     ]
    }
   ],
   "source": [
    "body = response.json()\n",
    "pprint(body)"
   ]
  },
  {
   "cell_type": "code",
   "execution_count": 21,
   "metadata": {},
   "outputs": [
    {
     "name": "stdout",
     "output_type": "stream",
     "text": [
      "2004\n"
     ]
    }
   ],
   "source": [
    "print(body[\"Year\"])"
   ]
  },
  {
   "cell_type": "code",
   "execution_count": 22,
   "metadata": {
    "scrolled": true
   },
   "outputs": [
    {
     "name": "stdout",
     "output_type": "stream",
     "text": [
      "http://www.omdbapi.com/?i=tt3896198&apikey=bd6c903a&t=Moana\n"
     ]
    }
   ],
   "source": [
    "# Who wrote Moana?\n",
    "movie = \"Moana\"\n",
    "url = base_url + movie\n",
    "response = requests.get(url)\n",
    "print(response.url)\n"
   ]
  },
  {
   "cell_type": "code",
   "execution_count": 23,
   "metadata": {},
   "outputs": [
    {
     "name": "stdout",
     "output_type": "stream",
     "text": [
      "{'Actors': \"Auli'i Cravalho, Dwayne Johnson, Rachel House\",\n",
      " 'Awards': 'Nominated for 2 Oscars. 22 wins & 90 nominations total',\n",
      " 'BoxOffice': '$248,757,044',\n",
      " 'Country': 'United States',\n",
      " 'DVD': '07 Mar 2017',\n",
      " 'Director': 'Ron Clements, John Musker, Don Hall',\n",
      " 'Genre': 'Animation, Adventure, Comedy',\n",
      " 'Language': 'English, French',\n",
      " 'Metascore': '81',\n",
      " 'Plot': 'In Ancient Polynesia, when a terrible curse incurred by the Demigod '\n",
      "         \"Maui reaches Moana's island, she answers the Ocean's call to seek \"\n",
      "         'out the Demigod to set things right.',\n",
      " 'Poster': 'https://m.media-amazon.com/images/M/MV5BMjI4MzU5NTExNF5BMl5BanBnXkFtZTgwNzY1MTEwMDI@._V1_SX300.jpg',\n",
      " 'Production': 'N/A',\n",
      " 'Rated': 'PG',\n",
      " 'Ratings': [{'Source': 'Internet Movie Database', 'Value': '7.6/10'},\n",
      "             {'Source': 'Rotten Tomatoes', 'Value': '95%'},\n",
      "             {'Source': 'Metacritic', 'Value': '81/100'}],\n",
      " 'Released': '23 Nov 2016',\n",
      " 'Response': 'True',\n",
      " 'Runtime': '107 min',\n",
      " 'Title': 'Moana',\n",
      " 'Type': 'movie',\n",
      " 'Website': 'N/A',\n",
      " 'Writer': 'Jared Bush, Ron Clements, John Musker',\n",
      " 'Year': '2016',\n",
      " 'imdbID': 'tt3521164',\n",
      " 'imdbRating': '7.6',\n",
      " 'imdbVotes': '343,558'}\n"
     ]
    }
   ],
   "source": [
    "body = response.json()\n",
    "pprint(body)"
   ]
  },
  {
   "cell_type": "code",
   "execution_count": 24,
   "metadata": {},
   "outputs": [
    {
     "name": "stdout",
     "output_type": "stream",
     "text": [
      "Jared Bush, Ron Clements, John Musker\n"
     ]
    }
   ],
   "source": [
    "print(body[\"Writer\"])"
   ]
  },
  {
   "cell_type": "code",
   "execution_count": 25,
   "metadata": {
    "scrolled": true
   },
   "outputs": [
    {
     "name": "stdout",
     "output_type": "stream",
     "text": [
      "http://www.omdbapi.com/?i=tt3896198&apikey=bd6c903a&t=Sing\n"
     ]
    }
   ],
   "source": [
    "# What was the plot of the movie Sing?\n",
    "movie = \"Sing\"\n",
    "url = base_url + movie\n",
    "response = requests.get(url)\n",
    "print(response.url)"
   ]
  },
  {
   "cell_type": "code",
   "execution_count": 26,
   "metadata": {},
   "outputs": [
    {
     "name": "stdout",
     "output_type": "stream",
     "text": [
      "{'Actors': 'Matthew McConaughey, Reese Witherspoon, Seth MacFarlane',\n",
      " 'Awards': '3 wins & 25 nominations',\n",
      " 'BoxOffice': '$270,578,425',\n",
      " 'Country': 'Japan, United States, France',\n",
      " 'DVD': '18 Apr 2017',\n",
      " 'Director': 'Garth Jennings, Christophe Lourdelet',\n",
      " 'Genre': 'Animation, Comedy, Family',\n",
      " 'Language': 'Japanese, Ukrainian, Persian, English',\n",
      " 'Metascore': '59',\n",
      " 'Plot': \"In a city of humanoid animals, a hustling theater impresario's \"\n",
      "         'attempt to save his theater with a singing competition becomes '\n",
      "         'grander than he anticipates even as its finalists find that their '\n",
      "         'lives will never be the same.',\n",
      " 'Poster': 'https://m.media-amazon.com/images/M/MV5BMTYzODYzODU2Ml5BMl5BanBnXkFtZTgwNTc1MTA2NzE@._V1_SX300.jpg',\n",
      " 'Production': 'N/A',\n",
      " 'Rated': 'PG',\n",
      " 'Ratings': [{'Source': 'Internet Movie Database', 'Value': '7.1/10'},\n",
      "             {'Source': 'Rotten Tomatoes', 'Value': '71%'},\n",
      "             {'Source': 'Metacritic', 'Value': '59/100'}],\n",
      " 'Released': '21 Dec 2016',\n",
      " 'Response': 'True',\n",
      " 'Runtime': '108 min',\n",
      " 'Title': 'Sing',\n",
      " 'Type': 'movie',\n",
      " 'Website': 'N/A',\n",
      " 'Writer': 'Garth Jennings',\n",
      " 'Year': '2016',\n",
      " 'imdbID': 'tt3470600',\n",
      " 'imdbRating': '7.1',\n",
      " 'imdbVotes': '175,343'}\n"
     ]
    }
   ],
   "source": [
    "body = response.json()\n",
    "pprint(body)"
   ]
  },
  {
   "cell_type": "code",
   "execution_count": 27,
   "metadata": {},
   "outputs": [
    {
     "name": "stdout",
     "output_type": "stream",
     "text": [
      "In a city of humanoid animals, a hustling theater impresario's attempt to save his theater with a singing competition becomes grander than he anticipates even as its finalists find that their lives will never be the same.\n"
     ]
    }
   ],
   "source": [
    "print(body[\"Plot\"])"
   ]
  }
 ],
 "metadata": {
  "kernelspec": {
   "display_name": "Python 3 (ipykernel)",
   "language": "python",
   "name": "python3"
  },
  "language_info": {
   "codemirror_mode": {
    "name": "ipython",
    "version": 3
   },
   "file_extension": ".py",
   "mimetype": "text/x-python",
   "name": "python",
   "nbconvert_exporter": "python",
   "pygments_lexer": "ipython3",
   "version": "3.9.13"
  },
  "varInspector": {
   "cols": {
    "lenName": 16,
    "lenType": 16,
    "lenVar": 40
   },
   "kernels_config": {
    "python": {
     "delete_cmd_postfix": "",
     "delete_cmd_prefix": "del ",
     "library": "var_list.py",
     "varRefreshCmd": "print(var_dic_list())"
    },
    "r": {
     "delete_cmd_postfix": ") ",
     "delete_cmd_prefix": "rm(",
     "library": "var_list.r",
     "varRefreshCmd": "cat(var_dic_list()) "
    }
   },
   "types_to_exclude": [
    "module",
    "function",
    "builtin_function_or_method",
    "instance",
    "_Feature"
   ],
   "window_display": false
  }
 },
 "nbformat": 4,
 "nbformat_minor": 2
}
