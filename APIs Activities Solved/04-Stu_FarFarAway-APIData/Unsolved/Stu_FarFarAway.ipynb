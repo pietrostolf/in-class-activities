{
 "cells": [
  {
   "cell_type": "code",
   "execution_count": 6,
   "metadata": {},
   "outputs": [],
   "source": [
    "# Dependencies\n",
    "import requests\n",
    "import json\n",
    "from pprint import pprint "
   ]
  },
  {
   "cell_type": "code",
   "execution_count": 7,
   "metadata": {},
   "outputs": [],
   "source": [
    "# URL for GET requests to retrieve Star Wars character data\n",
    "base_url = \"https://swapi.dev/api/people/\""
   ]
  },
  {
   "cell_type": "code",
   "execution_count": 8,
   "metadata": {},
   "outputs": [
    {
     "name": "stdout",
     "output_type": "stream",
     "text": [
      "https://swapi.dev/api/people/4\n"
     ]
    }
   ],
   "source": [
    "# Create a url with a specific character id\n",
    "character_id = '4'\n",
    "url = base_url + character_id\n",
    "print(url)"
   ]
  },
  {
   "cell_type": "code",
   "execution_count": 9,
   "metadata": {},
   "outputs": [
    {
     "name": "stdout",
     "output_type": "stream",
     "text": [
      "https://swapi.dev/api/people/4\n"
     ]
    }
   ],
   "source": [
    "# Perform a get request for this character\n",
    "response = requests.get(url)\n",
    "print(response.url)"
   ]
  },
  {
   "cell_type": "code",
   "execution_count": 10,
   "metadata": {},
   "outputs": [
    {
     "name": "stdout",
     "output_type": "stream",
     "text": [
      "{'birth_year': '41.9BBY',\n",
      " 'created': '2014-12-10T15:18:20.704000Z',\n",
      " 'edited': '2014-12-20T21:17:50.313000Z',\n",
      " 'eye_color': 'yellow',\n",
      " 'films': ['https://swapi.dev/api/films/1/',\n",
      "           'https://swapi.dev/api/films/2/',\n",
      "           'https://swapi.dev/api/films/3/',\n",
      "           'https://swapi.dev/api/films/6/'],\n",
      " 'gender': 'male',\n",
      " 'hair_color': 'none',\n",
      " 'height': '202',\n",
      " 'homeworld': 'https://swapi.dev/api/planets/1/',\n",
      " 'mass': '136',\n",
      " 'name': 'Darth Vader',\n",
      " 'skin_color': 'white',\n",
      " 'species': [],\n",
      " 'starships': ['https://swapi.dev/api/starships/13/'],\n",
      " 'url': 'https://swapi.dev/api/people/4/',\n",
      " 'vehicles': []}\n"
     ]
    }
   ],
   "source": [
    "# Storing the JSON response within a variable\n",
    "data = response.json()\n",
    "# Use json.dumps to print the json stored in variable\n",
    "body = response.json()\n",
    "pprint(body)"
   ]
  },
  {
   "cell_type": "code",
   "execution_count": 12,
   "metadata": {},
   "outputs": [
    {
     "data": {
      "text/plain": [
       "'Darth Vader'"
      ]
     },
     "execution_count": 12,
     "metadata": {},
     "output_type": "execute_result"
    }
   ],
   "source": [
    "# Print the name of the character retrieved\n",
    "body[\"name\"]"
   ]
  },
  {
   "cell_type": "code",
   "execution_count": 15,
   "metadata": {},
   "outputs": [
    {
     "name": "stdout",
     "output_type": "stream",
     "text": [
      "4\n"
     ]
    }
   ],
   "source": [
    "# Print the number of films that they were in (hint: use len())\n",
    "print (len(body[\"films\"]))"
   ]
  },
  {
   "cell_type": "code",
   "execution_count": 19,
   "metadata": {},
   "outputs": [],
   "source": [
    "# Request the starships URI found in the starships property of the\n",
    "# previously retreived json, then use the response to figure out what this \n",
    "# character's first starship was\n",
    "starships_url = str(body[\"starships\"]).strip('[]').replace(\"'\", \"\")\n",
    "response = requests.get(starships_url)"
   ]
  },
  {
   "cell_type": "code",
   "execution_count": 20,
   "metadata": {},
   "outputs": [
    {
     "name": "stdout",
     "output_type": "stream",
     "text": [
      "{'MGLT': '105',\n",
      " 'cargo_capacity': '150',\n",
      " 'consumables': '5 days',\n",
      " 'cost_in_credits': 'unknown',\n",
      " 'created': '2014-12-12T11:21:32.991000Z',\n",
      " 'crew': '1',\n",
      " 'edited': '2014-12-20T21:23:49.889000Z',\n",
      " 'films': ['https://swapi.dev/api/films/1/'],\n",
      " 'hyperdrive_rating': '1.0',\n",
      " 'length': '9.2',\n",
      " 'manufacturer': 'Sienar Fleet Systems',\n",
      " 'max_atmosphering_speed': '1200',\n",
      " 'model': 'Twin Ion Engine Advanced x1',\n",
      " 'name': 'TIE Advanced x1',\n",
      " 'passengers': '0',\n",
      " 'pilots': ['https://swapi.dev/api/people/4/'],\n",
      " 'starship_class': 'Starfighter',\n",
      " 'url': 'https://swapi.dev/api/starships/13/'}\n"
     ]
    }
   ],
   "source": [
    "# Storing the JSON response within a variable\n",
    "data = response.json()\n",
    "# Use json.dumps to print the json stored in variable\n",
    "body = response.json()\n",
    "pprint(body)"
   ]
  },
  {
   "cell_type": "code",
   "execution_count": 21,
   "metadata": {},
   "outputs": [
    {
     "data": {
      "text/plain": [
       "'TIE Advanced x1'"
      ]
     },
     "execution_count": 21,
     "metadata": {},
     "output_type": "execute_result"
    }
   ],
   "source": [
    "body[\"name\"]"
   ]
  },
  {
   "cell_type": "code",
   "execution_count": null,
   "metadata": {},
   "outputs": [],
   "source": [
    "# Print the name of the character's first starship\n",
    "# YOUR CODE HERE"
   ]
  }
 ],
 "metadata": {
  "kernelspec": {
   "display_name": "Python 3 (ipykernel)",
   "language": "python",
   "name": "python3"
  },
  "language_info": {
   "codemirror_mode": {
    "name": "ipython",
    "version": 3
   },
   "file_extension": ".py",
   "mimetype": "text/x-python",
   "name": "python",
   "nbconvert_exporter": "python",
   "pygments_lexer": "ipython3",
   "version": "3.9.13"
  },
  "varInspector": {
   "cols": {
    "lenName": 16,
    "lenType": 16,
    "lenVar": 40
   },
   "kernels_config": {
    "python": {
     "delete_cmd_postfix": "",
     "delete_cmd_prefix": "del ",
     "library": "var_list.py",
     "varRefreshCmd": "print(var_dic_list())"
    },
    "r": {
     "delete_cmd_postfix": ") ",
     "delete_cmd_prefix": "rm(",
     "library": "var_list.r",
     "varRefreshCmd": "cat(var_dic_list()) "
    }
   },
   "types_to_exclude": [
    "module",
    "function",
    "builtin_function_or_method",
    "instance",
    "_Feature"
   ],
   "window_display": false
  }
 },
 "nbformat": 4,
 "nbformat_minor": 2
}
