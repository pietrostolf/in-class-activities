{
 "cells": [
  {
   "cell_type": "markdown",
   "metadata": {},
   "source": [
    "# Geoapify Drills\n",
    "\n",
    "Create code to answer each of the following questions.\n",
    "\n",
    "> **Hint:** You will need multiple target URLs and multiple API requests."
   ]
  },
  {
   "cell_type": "code",
   "execution_count": 14,
   "metadata": {},
   "outputs": [],
   "source": [
    "# Dependencies\n",
    "import requests\n",
    "import json\n",
    "from pprint import pprint\n",
    "\n",
    "# Import the API key\n",
    "from config import geoapify_key"
   ]
  },
  {
   "cell_type": "markdown",
   "metadata": {},
   "source": [
    "## 1. What are the geocoordinates (latitude and longitude) of Brisbane, Australia?"
   ]
  },
  {
   "cell_type": "code",
   "execution_count": 23,
   "metadata": {},
   "outputs": [],
   "source": [
    "# YOUR CODE HERE\n",
    "base_url = \"https://api.geoapify.com/v1/geocode/search\"\n",
    "params = {\n",
    "    \"text\" : \"Brisbane%2C%20Australia\",\n",
    "    \"lang\" : \"en\", \n",
    "    \"type\" : \"city\", \n",
    "    \"format\" : 'json',\n",
    "    \"apiKey\" : \"452d2ca9d9f340dfb0ac40e5af07d278\"\n",
    "}"
   ]
  },
  {
   "cell_type": "code",
   "execution_count": 24,
   "metadata": {},
   "outputs": [
    {
     "data": {
      "text/plain": [
       "dict_keys(['datasource', 'name', 'country', 'country_code', 'state', 'city', 'district', 'lon', 'lat', 'state_code', 'formatted', 'address_line1', 'address_line2', 'timezone', 'result_type', 'rank', 'place_id', 'bbox'])"
      ]
     },
     "execution_count": 24,
     "metadata": {},
     "output_type": "execute_result"
    }
   ],
   "source": [
    "data = requests.get(base_url, params=params).json()\n",
    "data[\"results\"][0].keys()"
   ]
  },
  {
   "cell_type": "code",
   "execution_count": 25,
   "metadata": {},
   "outputs": [
    {
     "data": {
      "text/plain": [
       "(153.06578539840805, -27.55267215)"
      ]
     },
     "execution_count": 25,
     "metadata": {},
     "output_type": "execute_result"
    }
   ],
   "source": [
    "data[\"results\"][0][\"lon\"],data[\"results\"][0][\"lat\"]"
   ]
  },
  {
   "cell_type": "markdown",
   "metadata": {},
   "source": [
    "## 2. What are the geocoordinates (latitude and longitude) of The Sydney Opera House?"
   ]
  },
  {
   "cell_type": "code",
   "execution_count": 31,
   "metadata": {},
   "outputs": [],
   "source": [
    "# YOUR CODE HERE\n",
    "base_url = \"https://api.geoapify.com/v1/geocode/search?\"\n",
    "params = {\n",
    "    \"text\" : \"Sydney%20Opera%20House\",\n",
    "    \"format\" : 'json',\n",
    "    \"apiKey\" : \"452d2ca9d9f340dfb0ac40e5af07d278\"\n",
    "}"
   ]
  },
  {
   "cell_type": "code",
   "execution_count": 36,
   "metadata": {},
   "outputs": [
    {
     "name": "stdout",
     "output_type": "stream",
     "text": [
      "{'query': {'text': 'Sydney Opera House'},\n",
      " 'results': [{'address_line1': 'Sydney Opera House',\n",
      "              'address_line2': '2 Macquarie Street, Sydney NSW 2000, Australia',\n",
      "              'bbox': {'lat1': -33.8579291,\n",
      "                       'lat2': -33.856305,\n",
      "                       'lon1': 151.214428,\n",
      "                       'lon2': 151.2158894},\n",
      "              'category': 'entertainment.culture.arts_centre',\n",
      "              'city': 'Sydney',\n",
      "              'country': 'Australia',\n",
      "              'country_code': 'au',\n",
      "              'datasource': {'attribution': '© OpenStreetMap contributors',\n",
      "                             'license': 'Open Database License',\n",
      "                             'sourcename': 'openstreetmap',\n",
      "                             'url': 'https://www.openstreetmap.org/copyright'},\n",
      "              'district': 'Quay Quarter',\n",
      "              'formatted': 'Sydney Opera House, 2 Macquarie Street, Sydney NSW '\n",
      "                           '2000, Australia',\n",
      "              'housenumber': '2',\n",
      "              'lat': -33.85719805,\n",
      "              'lon': 151.21512338473752,\n",
      "              'municipality': 'Council of the City of Sydney',\n",
      "              'name': 'Sydney Opera House',\n",
      "              'place_id': '51aec16f4ae2e6624059f5786baab8ed40c0f00101f901c86f920000000000c002019203125379646e6579204f7065726120486f757365',\n",
      "              'postcode': '2000',\n",
      "              'rank': {'confidence': 1,\n",
      "                       'importance': 0.8439868225769328,\n",
      "                       'match_type': 'full_match',\n",
      "                       'popularity': 6.979585085597298},\n",
      "              'result_type': 'amenity',\n",
      "              'state': 'New South Wales',\n",
      "              'state_code': 'NSW',\n",
      "              'street': 'Macquarie Street',\n",
      "              'suburb': 'Sydney',\n",
      "              'timezone': {'abbreviation_DST': 'AEDT',\n",
      "                           'abbreviation_STD': 'AEST',\n",
      "                           'name': 'Australia/Sydney',\n",
      "                           'offset_DST': '+11:00',\n",
      "                           'offset_DST_seconds': 39600,\n",
      "                           'offset_STD': '+10:00',\n",
      "                           'offset_STD_seconds': 36000}},\n",
      "             {'address_line1': 'Sydney Opera House',\n",
      "              'address_line2': '葆台路, 100070 Beijing, China',\n",
      "              'bbox': {'lat1': 39.8077821,\n",
      "                       'lat2': 39.8078821,\n",
      "                       'lon1': 116.2844042,\n",
      "                       'lon2': 116.2845042},\n",
      "              'category': 'tourism.attraction',\n",
      "              'city': 'Fengtai District',\n",
      "              'country': 'China',\n",
      "              'country_code': 'cn',\n",
      "              'datasource': {'attribution': '© OpenStreetMap contributors',\n",
      "                             'license': 'Open Database License',\n",
      "                             'sourcename': 'openstreetmap',\n",
      "                             'url': 'https://www.openstreetmap.org/copyright'},\n",
      "              'formatted': 'Sydney Opera House, 葆台路, 100070 Beijing, China',\n",
      "              'lat': 39.8078321,\n",
      "              'lon': 116.2844542,\n",
      "              'name': 'Sydney Opera House',\n",
      "              'place_id': '516e8d637f34125d40595a14d10a67e74340f00103f9015173cdbd00000000c002019203125379646e6579204f7065726120486f757365',\n",
      "              'postcode': '100070',\n",
      "              'rank': {'confidence': 1,\n",
      "                       'importance': 0.30001,\n",
      "                       'match_type': 'full_match',\n",
      "                       'popularity': 2.6769029610356663},\n",
      "              'result_type': 'amenity',\n",
      "              'state': 'Beijing',\n",
      "              'street': '葆台路',\n",
      "              'timezone': {'abbreviation_DST': 'CST',\n",
      "                           'abbreviation_STD': 'CST',\n",
      "                           'name': 'Asia/Shanghai',\n",
      "                           'offset_DST': '+08:00',\n",
      "                           'offset_DST_seconds': 28800,\n",
      "                           'offset_STD': '+08:00',\n",
      "                           'offset_STD_seconds': 28800},\n",
      "              'town': 'Hua‘xiang'}]}\n"
     ]
    }
   ],
   "source": [
    "data = requests.get(\"https://api.geoapify.com/v1/geocode/search?text=Sydney%20Opera%20House&format=json&apiKey=452d2ca9d9f340dfb0ac40e5af07d278\").json()\n",
    "pprint(data)"
   ]
  },
  {
   "cell_type": "code",
   "execution_count": 37,
   "metadata": {},
   "outputs": [
    {
     "data": {
      "text/plain": [
       "(151.21512338473752, -33.85719805)"
      ]
     },
     "execution_count": 37,
     "metadata": {},
     "output_type": "execute_result"
    }
   ],
   "source": [
    "data[\"results\"][0][\"lon\"],data[\"results\"][0][\"lat\"]"
   ]
  },
  {
   "cell_type": "markdown",
   "metadata": {},
   "source": [
    "## 3. Find the name and address of a pharmacy in Brisbane, Australia.\n",
    "\n",
    "> **Hint:** Review <https://apidocs.geoapify.com/docs/places/#categories>."
   ]
  },
  {
   "cell_type": "code",
   "execution_count": 38,
   "metadata": {},
   "outputs": [],
   "source": [
    "# YOUR CODE HERE\n",
    "\n",
    "base_url = \"https://api.geoapify.com/v2/places\"\n",
    "    \n",
    "params = {\n",
    "    \"categories\" : \"healthcare.pharmacy\",\n",
    "    \"filter\" : \"place:51920b5fb64d21634059814805c2e96f3bc0f00101f9016030b20000000000c0020992030d4272697362616e652043697479\", \n",
    "    \"limit\" : \"20\",\n",
    "    \"apiKey\" : \"452d2ca9d9f340dfb0ac40e5af07d278\"\n",
    "}"
   ]
  },
  {
   "cell_type": "code",
   "execution_count": 46,
   "metadata": {},
   "outputs": [
    {
     "data": {
      "text/plain": [
       "('Chemist Warehouse', '68 Ipswich Road, Woolloongabba QLD 4102, Australia')"
      ]
     },
     "execution_count": 46,
     "metadata": {},
     "output_type": "execute_result"
    }
   ],
   "source": [
    "data = requests.get(base_url, params=params).json()\n",
    "data[\"features\"][0][\"properties\"][\"name\"], data[\"features\"][0][\"properties\"][\"address_line2\"]"
   ]
  },
  {
   "cell_type": "markdown",
   "metadata": {},
   "source": [
    "## 4. Find a pet shop within a 5km radius from the Sydney Opera House."
   ]
  },
  {
   "cell_type": "code",
   "execution_count": null,
   "metadata": {},
   "outputs": [],
   "source": [
    "# YOUR CODE HERE\n"
   ]
  },
  {
   "cell_type": "markdown",
   "metadata": {},
   "source": [
    "## 5. Find the nearest dentist to your house.\n",
    "\n",
    "> **Hint:** Use Geoapify Geocode to find your latitude and Geoapify Places to find the dentist."
   ]
  },
  {
   "cell_type": "code",
   "execution_count": null,
   "metadata": {},
   "outputs": [],
   "source": [
    "# YOUR CODE HERE"
   ]
  },
  {
   "cell_type": "markdown",
   "metadata": {},
   "source": [
    "## 6. Bonus: Find the names and addresses of the five nearest restaurants with internet access in your home city area.\n",
    "\n",
    "> **Hint:** Read about the `proximity` bias to order the results from the nearest to the farest place. Also, read about the `conditions` to identify places that provide internet access."
   ]
  },
  {
   "cell_type": "code",
   "execution_count": null,
   "metadata": {},
   "outputs": [],
   "source": [
    "# YOUR CODE HERE"
   ]
  }
 ],
 "metadata": {
  "kernelspec": {
   "display_name": "Python 3 (ipykernel)",
   "language": "python",
   "name": "python3"
  },
  "language_info": {
   "codemirror_mode": {
    "name": "ipython",
    "version": 3
   },
   "file_extension": ".py",
   "mimetype": "text/x-python",
   "name": "python",
   "nbconvert_exporter": "python",
   "pygments_lexer": "ipython3",
   "version": "3.9.13"
  }
 },
 "nbformat": 4,
 "nbformat_minor": 4
}
