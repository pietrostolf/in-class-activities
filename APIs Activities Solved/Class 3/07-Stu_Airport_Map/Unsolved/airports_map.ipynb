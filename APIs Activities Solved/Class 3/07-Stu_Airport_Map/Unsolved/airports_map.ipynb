{
 "cells": [
  {
   "cell_type": "markdown",
   "metadata": {},
   "source": [
    "# Australian Airports Map"
   ]
  },
  {
   "cell_type": "code",
   "execution_count": 3,
   "metadata": {},
   "outputs": [],
   "source": [
    "# Import the required libraries\n",
    "import hvplot.pandas\n",
    "import pandas as pd\n",
    "from pprint import pprint\n",
    "import os\n",
    "\n",
    "# Turn off warning messages\n",
    "import warnings\n",
    "warnings.filterwarnings(\"ignore\")"
   ]
  },
  {
   "cell_type": "code",
   "execution_count": 5,
   "metadata": {},
   "outputs": [
    {
     "data": {
      "text/plain": [
       "'452d2ca9d9f340dfb0ac40e5af07d278'"
      ]
     },
     "execution_count": 5,
     "metadata": {},
     "output_type": "execute_result"
    }
   ],
   "source": [
    "os.environ[\"GeoApifyKey\"] = '452d2ca9d9f340dfb0ac40e5af07d278'\n",
    "GeoApifyKey = os.environ[\"GeoApifyKey\"] \n",
    "GeoApifyKey"
   ]
  },
  {
   "cell_type": "code",
   "execution_count": null,
   "metadata": {},
   "outputs": [],
   "source": []
  },
  {
   "cell_type": "markdown",
   "metadata": {},
   "source": [
    "## 1. Load airports' data into a Pandas DataFrame"
   ]
  },
  {
   "cell_type": "code",
   "execution_count": 7,
   "metadata": {},
   "outputs": [
    {
     "data": {
      "text/html": [
       "<div>\n",
       "<style scoped>\n",
       "    .dataframe tbody tr th:only-of-type {\n",
       "        vertical-align: middle;\n",
       "    }\n",
       "\n",
       "    .dataframe tbody tr th {\n",
       "        vertical-align: top;\n",
       "    }\n",
       "\n",
       "    .dataframe thead th {\n",
       "        text-align: right;\n",
       "    }\n",
       "</style>\n",
       "<table border=\"1\" class=\"dataframe\">\n",
       "  <thead>\n",
       "    <tr style=\"text-align: right;\">\n",
       "      <th></th>\n",
       "      <th>City</th>\n",
       "      <th>Lat</th>\n",
       "      <th>Lon</th>\n",
       "      <th>Airport Name</th>\n",
       "      <th>IATA Name</th>\n",
       "      <th>Airport Address</th>\n",
       "      <th>Distance</th>\n",
       "      <th>Website</th>\n",
       "    </tr>\n",
       "  </thead>\n",
       "  <tbody>\n",
       "    <tr>\n",
       "      <th>0</th>\n",
       "      <td>Sydney</td>\n",
       "      <td>-33.869844</td>\n",
       "      <td>151.208285</td>\n",
       "      <td>Sydney (Kingsford Smith) Airport</td>\n",
       "      <td>SYD</td>\n",
       "      <td>Eleventh Street, Mascot NSW 2020, Australia</td>\n",
       "      <td>6742</td>\n",
       "      <td>https://www.sydneyairport.com.au/</td>\n",
       "    </tr>\n",
       "    <tr>\n",
       "      <th>1</th>\n",
       "      <td>Melbourne</td>\n",
       "      <td>-37.814218</td>\n",
       "      <td>144.963161</td>\n",
       "      <td>Essendon Fields Airport</td>\n",
       "      <td>MEB</td>\n",
       "      <td>72 Hargrave Avenue, Essendon Fields VIC 3041, ...</td>\n",
       "      <td>9980</td>\n",
       "      <td>https://www.ef.com.au/</td>\n",
       "    </tr>\n",
       "    <tr>\n",
       "      <th>2</th>\n",
       "      <td>Perth</td>\n",
       "      <td>-31.955896</td>\n",
       "      <td>115.860580</td>\n",
       "      <td>Perth Airport</td>\n",
       "      <td>PER</td>\n",
       "      <td>Hay Road, Ascot WA 6104, Australia</td>\n",
       "      <td>8775</td>\n",
       "      <td>https://www.perthairport.com.au/</td>\n",
       "    </tr>\n",
       "    <tr>\n",
       "      <th>3</th>\n",
       "      <td>Cairns</td>\n",
       "      <td>-16.920666</td>\n",
       "      <td>145.772185</td>\n",
       "      <td>Cairns Airport</td>\n",
       "      <td>CNS</td>\n",
       "      <td>Sheridan Street, Aeroglen QLD 4870, Australia</td>\n",
       "      <td>3461</td>\n",
       "      <td>NaN</td>\n",
       "    </tr>\n",
       "    <tr>\n",
       "      <th>4</th>\n",
       "      <td>Adelaide</td>\n",
       "      <td>-34.928181</td>\n",
       "      <td>138.599931</td>\n",
       "      <td>Adelaide Airport</td>\n",
       "      <td>ADL</td>\n",
       "      <td>Adelaide Airport SA 5950, Australia</td>\n",
       "      <td>4898</td>\n",
       "      <td>https://www.adelaideairport.com.au/</td>\n",
       "    </tr>\n",
       "  </tbody>\n",
       "</table>\n",
       "</div>"
      ],
      "text/plain": [
       "        City        Lat         Lon                      Airport Name  \\\n",
       "0     Sydney -33.869844  151.208285  Sydney (Kingsford Smith) Airport   \n",
       "1  Melbourne -37.814218  144.963161           Essendon Fields Airport   \n",
       "2      Perth -31.955896  115.860580                     Perth Airport   \n",
       "3     Cairns -16.920666  145.772185                    Cairns Airport   \n",
       "4   Adelaide -34.928181  138.599931                  Adelaide Airport   \n",
       "\n",
       "  IATA Name                                    Airport Address  Distance  \\\n",
       "0       SYD        Eleventh Street, Mascot NSW 2020, Australia      6742   \n",
       "1       MEB  72 Hargrave Avenue, Essendon Fields VIC 3041, ...      9980   \n",
       "2       PER                 Hay Road, Ascot WA 6104, Australia      8775   \n",
       "3       CNS      Sheridan Street, Aeroglen QLD 4870, Australia      3461   \n",
       "4       ADL                Adelaide Airport SA 5950, Australia      4898   \n",
       "\n",
       "                               Website  \n",
       "0    https://www.sydneyairport.com.au/  \n",
       "1               https://www.ef.com.au/  \n",
       "2     https://www.perthairport.com.au/  \n",
       "3                                  NaN  \n",
       "4  https://www.adelaideairport.com.au/  "
      ]
     },
     "execution_count": 7,
     "metadata": {},
     "output_type": "execute_result"
    }
   ],
   "source": [
    "# Create airport dataframe\n",
    "airports_df = pd.read_csv(\"../Resources/Airport_Output.csv\")\n",
    "\n",
    "airports_df.head()\n",
    "\n",
    "# Display sample data\n",
    "# YOUR CODE HERE"
   ]
  },
  {
   "cell_type": "markdown",
   "metadata": {},
   "source": [
    "## 2. Create a simple map using GeoViews by adding a point per airport and setting a fixed size at your convenience"
   ]
  },
  {
   "cell_type": "code",
   "execution_count": null,
   "metadata": {},
   "outputs": [],
   "source": [
    "# Configure the map\n",
    "# YOUR CODE HERE\n",
    "\n",
    "# Display the map plot\n",
    "# YOUR CODE HERE"
   ]
  },
  {
   "cell_type": "markdown",
   "metadata": {},
   "source": [
    "## 3. Use GeoViews to create a custom map by setting values for color, size, and a title different than OSM.\n",
    "\n",
    "  > **Hint:** From the column values, you should decide what columns can be used to set a different color and size for each city."
   ]
  },
  {
   "cell_type": "code",
   "execution_count": null,
   "metadata": {},
   "outputs": [],
   "source": [
    "# Configure the map\n",
    "# YOUR CODE HERE\n",
    "\n",
    "# Display the map plot\n",
    "# YOUR CODE HERE"
   ]
  },
  {
   "cell_type": "code",
   "execution_count": null,
   "metadata": {},
   "outputs": [],
   "source": []
  }
 ],
 "metadata": {
  "kernelspec": {
   "display_name": "Python 3 (ipykernel)",
   "language": "python",
   "name": "python3"
  },
  "language_info": {
   "codemirror_mode": {
    "name": "ipython",
    "version": 3
   },
   "file_extension": ".py",
   "mimetype": "text/x-python",
   "name": "python",
   "nbconvert_exporter": "python",
   "pygments_lexer": "ipython3",
   "version": "3.9.13"
  },
  "latex_envs": {
   "LaTeX_envs_menu_present": true,
   "autoclose": false,
   "autocomplete": true,
   "bibliofile": "biblio.bib",
   "cite_by": "apalike",
   "current_citInitial": 1,
   "eqLabelWithNumbers": true,
   "eqNumInitial": 1,
   "hotkeys": {
    "equation": "Ctrl-E",
    "itemize": "Ctrl-I"
   },
   "labels_anchors": false,
   "latex_user_defs": false,
   "report_style_numbering": false,
   "user_envs_cfg": false
  }
 },
 "nbformat": 4,
 "nbformat_minor": 4
}
