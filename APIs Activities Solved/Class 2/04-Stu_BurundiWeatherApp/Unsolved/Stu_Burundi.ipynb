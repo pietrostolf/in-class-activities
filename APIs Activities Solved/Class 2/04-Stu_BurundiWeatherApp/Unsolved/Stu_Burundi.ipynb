{
 "cells": [
  {
   "cell_type": "code",
   "execution_count": 32,
   "metadata": {},
   "outputs": [],
   "source": [
    "# Dependencies\n",
    "import requests\n",
    "from config import api_key\n",
    "from pprint import pprint "
   ]
  },
  {
   "cell_type": "code",
   "execution_count": 33,
   "metadata": {},
   "outputs": [
    {
     "data": {
      "text/plain": [
       "'https://api.openweathermap.org/data/2.5/weather?q=Toronto&appid=2bc5a6f21983e3b3e4adfdaf55edd5f2&units=metric'"
      ]
     },
     "execution_count": 33,
     "metadata": {},
     "output_type": "execute_result"
    }
   ],
   "source": [
    "# Build query URL and request your results in Celsius\n",
    "base_url = \"https://api.openweathermap.org/data/2.5/weather?\"\n",
    "temp_unit = \"metric\"\n",
    "city = \"Toronto\"\n",
    "parameter1 = \"q=\"\n",
    "parameter2 = \"&appid=\"\n",
    "parameter3 = \"&units=\"\n",
    "url = f\"{base_url}{parameter1}{city}{parameter2}{api_key}{parameter3}{temp_unit}\"\n",
    "url\n",
    "# Get weather data"
   ]
  },
  {
   "cell_type": "code",
   "execution_count": 34,
   "metadata": {},
   "outputs": [
    {
     "name": "stdout",
     "output_type": "stream",
     "text": [
      "{'base': 'stations',\n",
      " 'clouds': {'all': 75},\n",
      " 'cod': 200,\n",
      " 'coord': {'lat': 43.7001, 'lon': -79.4163},\n",
      " 'dt': 1679612111,\n",
      " 'id': 6167865,\n",
      " 'main': {'feels_like': -1.02,\n",
      "          'humidity': 65,\n",
      "          'pressure': 1011,\n",
      "          'temp': 4.38,\n",
      "          'temp_max': 5.66,\n",
      "          'temp_min': 2.42},\n",
      " 'name': 'Toronto',\n",
      " 'sys': {'country': 'CA',\n",
      "         'id': 2043365,\n",
      "         'sunrise': 1679570152,\n",
      "         'sunset': 1679614358,\n",
      "         'type': 2},\n",
      " 'timezone': -14400,\n",
      " 'visibility': 10000,\n",
      " 'weather': [{'description': 'broken clouds',\n",
      "              'icon': '04d',\n",
      "              'id': 803,\n",
      "              'main': 'Clouds'}],\n",
      " 'wind': {'deg': 300, 'speed': 9.26}}\n"
     ]
    }
   ],
   "source": [
    "# Get temperature from JSON response\n",
    "response = requests.get(url)\n",
    "data = response.json()\n",
    "pprint(data)"
   ]
  },
  {
   "cell_type": "code",
   "execution_count": 35,
   "metadata": {},
   "outputs": [
    {
     "data": {
      "text/plain": [
       "{'temp': 4.38,\n",
       " 'feels_like': -1.02,\n",
       " 'temp_min': 2.42,\n",
       " 'temp_max': 5.66,\n",
       " 'pressure': 1011,\n",
       " 'humidity': 65}"
      ]
     },
     "execution_count": 35,
     "metadata": {},
     "output_type": "execute_result"
    }
   ],
   "source": [
    "main_data = data[\"main\"]\n",
    "main_data"
   ]
  },
  {
   "cell_type": "code",
   "execution_count": 36,
   "metadata": {},
   "outputs": [
    {
     "data": {
      "text/plain": [
       "4.38"
      ]
     },
     "execution_count": 36,
     "metadata": {},
     "output_type": "execute_result"
    }
   ],
   "source": [
    "# Report temperature\n",
    "main_data[\"temp\"]"
   ]
  }
 ],
 "metadata": {
  "kernelspec": {
   "display_name": "Python 3 (ipykernel)",
   "language": "python",
   "name": "python3"
  },
  "language_info": {
   "codemirror_mode": {
    "name": "ipython",
    "version": 3
   },
   "file_extension": ".py",
   "mimetype": "text/x-python",
   "name": "python",
   "nbconvert_exporter": "python",
   "pygments_lexer": "ipython3",
   "version": "3.9.13"
  },
  "varInspector": {
   "cols": {
    "lenName": 16,
    "lenType": 16,
    "lenVar": 40
   },
   "kernels_config": {
    "python": {
     "delete_cmd_postfix": "",
     "delete_cmd_prefix": "del ",
     "library": "var_list.py",
     "varRefreshCmd": "print(var_dic_list())"
    },
    "r": {
     "delete_cmd_postfix": ") ",
     "delete_cmd_prefix": "rm(",
     "library": "var_list.r",
     "varRefreshCmd": "cat(var_dic_list()) "
    }
   },
   "types_to_exclude": [
    "module",
    "function",
    "builtin_function_or_method",
    "instance",
    "_Feature"
   ],
   "window_display": false
  }
 },
 "nbformat": 4,
 "nbformat_minor": 2
}
