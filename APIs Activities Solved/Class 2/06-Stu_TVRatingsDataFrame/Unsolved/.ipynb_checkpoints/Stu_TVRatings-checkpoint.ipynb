{
 "cells": [
  {
   "cell_type": "code",
   "execution_count": 1,
   "metadata": {},
   "outputs": [],
   "source": [
    "#Dependencies\n",
    "import requests\n",
    "import json\n",
    "import pandas as pd\n",
    "import numpy as np\n",
    "import matplotlib.pyplot as plt"
   ]
  },
  {
   "cell_type": "code",
   "execution_count": 2,
   "metadata": {},
   "outputs": [],
   "source": [
    "base_url = \"https://api.tvmaze.com/search/shows?q=\""
   ]
  },
  {
   "cell_type": "code",
   "execution_count": null,
   "metadata": {},
   "outputs": [],
   "source": [
    "#list of tv show titles to query\n",
    "tv_shows = [\"Altered Carbon\", \"Grey's Anatomy\", \"This is Us\", \"The Flash\", \"Vikings\", \"Shameless\", \"Arrow\", \"Peaky Blinders\", \"Dirk Gently\"]\n",
    "\n",
    "# make iterative requests to TVmaze search endpoint\n",
    "for show in tv_shows: \n",
    "    combined_url = f\"{base_url}{parameter_1}{city}{parameter_2}{api_key}{parameter_3}{unit}\"\n",
    "    data = requests.get(combined_url).json()\n",
    "    print(city)\n",
    "    print(data[\"coord\"][\"lat\"])\n",
    "    lat.append(data[\"coord\"][\"lat\"])\n",
    "    print(data[\"main\"][\"temp\"])\n",
    "    temp.append(data[\"main\"][\"temp\"])"
   ]
  },
  {
   "cell_type": "code",
   "execution_count": null,
   "metadata": {},
   "outputs": [],
   "source": [
    "# create dataframe"
   ]
  },
  {
   "cell_type": "code",
   "execution_count": null,
   "metadata": {},
   "outputs": [],
   "source": [
    "# use pandas to create a bar chart from the dataframe"
   ]
  }
 ],
 "metadata": {
  "kernelspec": {
   "display_name": "Python 3 (ipykernel)",
   "language": "python",
   "name": "python3"
  },
  "language_info": {
   "codemirror_mode": {
    "name": "ipython",
    "version": 3
   },
   "file_extension": ".py",
   "mimetype": "text/x-python",
   "name": "python",
   "nbconvert_exporter": "python",
   "pygments_lexer": "ipython3",
   "version": "3.9.13"
  }
 },
 "nbformat": 4,
 "nbformat_minor": 2
}
