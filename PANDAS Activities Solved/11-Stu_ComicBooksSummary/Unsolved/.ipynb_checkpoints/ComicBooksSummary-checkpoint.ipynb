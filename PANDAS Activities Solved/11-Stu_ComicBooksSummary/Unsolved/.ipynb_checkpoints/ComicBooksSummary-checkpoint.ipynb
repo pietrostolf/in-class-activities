{
 "cells": [
  {
   "cell_type": "code",
   "execution_count": 9,
   "metadata": {},
   "outputs": [],
   "source": [
    "# Import Dependencies\n",
    "import pandas as pd"
   ]
  },
  {
   "cell_type": "code",
   "execution_count": 10,
   "metadata": {},
   "outputs": [],
   "source": [
    "# File to Load\n",
    "\n",
    "# Read the modified Comic Books csv and store into Pandas DataFrame\n",
    "new_comic_df = pd.read_csv('Resources/books_clean.csv', encoding=\"utf-8\")"
   ]
  },
  {
   "cell_type": "code",
   "execution_count": 11,
   "metadata": {},
   "outputs": [],
   "source": [
    "# Calculate the number of unique authors in the DataFrame\n",
    "aut_count = len(new_comic_df[\"Author\"].unique())"
   ]
  },
  {
   "cell_type": "code",
   "execution_count": 12,
   "metadata": {},
   "outputs": [],
   "source": [
    "# Calculate the number of unique publication countries in the DataFrame\n",
    "pub_count = len(new_comic_df[\"Author\"].unique())"
   ]
  },
  {
   "cell_type": "code",
   "execution_count": 13,
   "metadata": {},
   "outputs": [
    {
     "name": "stdout",
     "output_type": "stream",
     "text": [
      "1941\n",
      "2021\n"
     ]
    }
   ],
   "source": [
    "# # Calculate the earliest/latest year a book was published\n",
    "earliest = new_comic_df[\"Publication Year\"].min()\n",
    "latest = new_comic_df[\"Publication Year\"].max()\n",
    "\n",
    "print(earliest)\n",
    "print(latest)"
   ]
  },
  {
   "cell_type": "code",
   "execution_count": 20,
   "metadata": {},
   "outputs": [],
   "source": [
    "# Place all of the data found into a summary DataFrame\n",
    "new_comic_df_sum = pd.DataFrame({\"Number of Authors\" : [aut_count], \n",
    "             \"Number of Publications\": [pub_count],\n",
    "             \"Earliest Year of Publication\": [earliest],\n",
    "             \"Latest Year of Publication\": [latest]})"
   ]
  },
  {
   "cell_type": "code",
   "execution_count": 21,
   "metadata": {},
   "outputs": [
    {
     "data": {
      "text/html": [
       "<div>\n",
       "<style scoped>\n",
       "    .dataframe tbody tr th:only-of-type {\n",
       "        vertical-align: middle;\n",
       "    }\n",
       "\n",
       "    .dataframe tbody tr th {\n",
       "        vertical-align: top;\n",
       "    }\n",
       "\n",
       "    .dataframe thead th {\n",
       "        text-align: right;\n",
       "    }\n",
       "</style>\n",
       "<table border=\"1\" class=\"dataframe\">\n",
       "  <thead>\n",
       "    <tr style=\"text-align: right;\">\n",
       "      <th></th>\n",
       "      <th>Number of Authors</th>\n",
       "      <th>Number of Publications</th>\n",
       "      <th>Earliest Year of Publication</th>\n",
       "      <th>Latest Year of Publication</th>\n",
       "    </tr>\n",
       "  </thead>\n",
       "  <tbody>\n",
       "    <tr>\n",
       "      <th>0</th>\n",
       "      <td>4249</td>\n",
       "      <td>4249</td>\n",
       "      <td>1941</td>\n",
       "      <td>2021</td>\n",
       "    </tr>\n",
       "  </tbody>\n",
       "</table>\n",
       "</div>"
      ],
      "text/plain": [
       "   Number of Authors  Number of Publications  Earliest Year of Publication  \\\n",
       "0               4249                    4249                          1941   \n",
       "\n",
       "   Latest Year of Publication  \n",
       "0                        2021  "
      ]
     },
     "execution_count": 21,
     "metadata": {},
     "output_type": "execute_result"
    }
   ],
   "source": [
    "new_comic_df_sum"
   ]
  },
  {
   "cell_type": "code",
   "execution_count": null,
   "metadata": {},
   "outputs": [],
   "source": []
  }
 ],
 "metadata": {
  "kernelspec": {
   "display_name": "Python 3 (ipykernel)",
   "language": "python",
   "name": "python3"
  },
  "language_info": {
   "codemirror_mode": {
    "name": "ipython",
    "version": 3
   },
   "file_extension": ".py",
   "mimetype": "text/x-python",
   "name": "python",
   "nbconvert_exporter": "python",
   "pygments_lexer": "ipython3",
   "version": "3.9.13"
  }
 },
 "nbformat": 4,
 "nbformat_minor": 2
}
