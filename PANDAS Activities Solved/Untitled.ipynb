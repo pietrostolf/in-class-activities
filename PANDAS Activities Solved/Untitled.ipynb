{
 "cells": [
  {
   "cell_type": "code",
   "execution_count": 1,
   "id": "ed83603a",
   "metadata": {},
   "outputs": [],
   "source": [
    "import pandas as pd"
   ]
  },
  {
   "cell_type": "code",
   "execution_count": 2,
   "id": "38031aed",
   "metadata": {},
   "outputs": [],
   "source": [
    "myList = [\"Toronto\", \"Ottawa\", \"Montreal\"]"
   ]
  },
  {
   "cell_type": "code",
   "execution_count": 3,
   "id": "afca6a6d",
   "metadata": {},
   "outputs": [],
   "source": [
    "data_series = pd.Series(myList)"
   ]
  },
  {
   "cell_type": "code",
   "execution_count": 4,
   "id": "2c68257a",
   "metadata": {},
   "outputs": [
    {
     "data": {
      "text/plain": [
       "0     Toronto\n",
       "1      Ottawa\n",
       "2    Montreal\n",
       "dtype: object"
      ]
     },
     "execution_count": 4,
     "metadata": {},
     "output_type": "execute_result"
    }
   ],
   "source": [
    "data_series"
   ]
  }
 ],
 "metadata": {
  "kernelspec": {
   "display_name": "Python 3 (ipykernel)",
   "language": "python",
   "name": "python3"
  },
  "language_info": {
   "codemirror_mode": {
    "name": "ipython",
    "version": 3
   },
   "file_extension": ".py",
   "mimetype": "text/x-python",
   "name": "python",
   "nbconvert_exporter": "python",
   "pygments_lexer": "ipython3",
   "version": "3.9.13"
  }
 },
 "nbformat": 4,
 "nbformat_minor": 5
}
